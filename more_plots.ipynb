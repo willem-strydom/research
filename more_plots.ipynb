{
 "cells": [
  {
   "cell_type": "code",
   "execution_count": null,
   "metadata": {
    "collapsed": true
   },
   "outputs": [],
   "source": [
    "import numpy as np\n",
    "from logistic_regression.GrdDscntQuant import grdescentquant\n",
    "from logistic_regression.normal_logistic import normallogistic\n",
    "from logistic_regression.GrdDscnt import grdescentnormal\n",
    "from logistic_regression.quant_logistic import quant_logistic\n",
    "from logistic_regression.GrdDscntUncoded import grdescentuncoded\n",
    "from logistic_regression.uncoded_logistic import  uncoded_logistic\n",
    "from quantization.quantize import quantize\n",
    "from coded_computation.master import master\n",
    "import matplotlib.pyplot as plt\n",
    "import pandas as pd\n",
    "from scipy.io import arff\n",
    "from pad_and_clean import pad\n",
    "from pad_and_clean import clean_and_scale\n",
    "import time\n",
    "from gen_data import gen_data, gen_nonlinear_data\n",
    "from sklearn.model_selection import train_test_split\n",
    "from run_test import run\n",
    "\n",
    "# do runs, make plots."
   ]
  }
 ],
 "metadata": {
  "kernelspec": {
   "display_name": "Python 3",
   "language": "python",
   "name": "python3"
  },
  "language_info": {
   "codemirror_mode": {
    "name": "ipython",
    "version": 2
   },
   "file_extension": ".py",
   "mimetype": "text/x-python",
   "name": "python",
   "nbconvert_exporter": "python",
   "pygments_lexer": "ipython2",
   "version": "2.7.6"
  }
 },
 "nbformat": 4,
 "nbformat_minor": 0
}
