{
 "cells": [
  {
   "cell_type": "code",
   "execution_count": 12,
   "metadata": {},
   "outputs": [
    {
     "name": "stdout",
     "output_type": "stream",
     "text": [
      "[4.2418496]\n",
      "[5.05345587]\n",
      "[5.42812947]\n",
      "[4.92796372]\n",
      "[1.4749685]\n",
      "[0.17694808]\n",
      "[3.50233056]\n",
      "[2.67710341]\n",
      "[3.89710017]\n",
      "[12.88375134]\n",
      "[1.32675323]\n",
      "[5.58410723]\n",
      "[7.24402191]\n",
      "[2.8266945]\n",
      "[8.62267296]\n",
      "[3.04940791]\n",
      "[1.10524619]\n",
      "[0.72521619]\n",
      "[5.04131702]\n",
      "[3.20536471]\n",
      "[6.886609]\n",
      "[0.94979155]\n",
      "[3.82052782]\n",
      "[6.27420825]\n",
      "[0.34224286]\n",
      "[0.42982988]\n",
      "[4.2428102]\n",
      "[3.23472142]\n",
      "[2.54972165]\n",
      "[3.00517195]\n",
      "[2.55179135]\n",
      "[5.01640318]\n",
      "[2.01515843]\n",
      "[7.44585845]\n",
      "[3.81321744]\n",
      "[7.73248868]\n",
      "[6.58435367]\n",
      "[5.4788721]\n",
      "[1.00506542]\n",
      "[5.26907322]\n",
      "[0.08769983]\n",
      "[4.09091378]\n",
      "[2.65031062]\n",
      "[0.57417795]\n",
      "[1.08892926]\n",
      "[6.18432218]\n",
      "[3.16646601]\n",
      "[2.94653662]\n",
      "[1.24509829]\n",
      "[1.47395257]\n",
      "[2.18615415]\n",
      "[1.19946369]\n",
      "[2.24246657]\n",
      "[3.22548176]\n",
      "[4.80701517]\n",
      "[0.59068698]\n",
      "[0.98572023]\n",
      "[3.9188889]\n",
      "[4.17296766]\n",
      "[1.26201555]\n",
      "[4.85733224]\n",
      "[1.84084103]\n",
      "[4.18811818]\n",
      "[8.27655111]\n",
      "[3.369714]\n",
      "[2.9915535]\n",
      "[7.47832444]\n",
      "[0.24393525]\n",
      "[2.14446753]\n",
      "[4.89139063]\n",
      "[6.3443091]\n",
      "[3.94276447]\n",
      "[2.47294856]\n",
      "[3.80206217]\n",
      "[0.92453676]\n",
      "[3.9119149]\n",
      "[5.02424431]\n",
      "[0.96752694]\n",
      "[1.96907711]\n",
      "[4.64107147]\n",
      "[0.46699095]\n",
      "[3.82127505]\n",
      "[5.33014762]\n",
      "[1.5426339]\n",
      "[5.30603767]\n",
      "[4.06262884]\n",
      "[1.77198651]\n",
      "[1.07241231]\n",
      "[0.06587091]\n",
      "[1.70721953]\n",
      "[4.34395309]\n",
      "[3.22915294]\n",
      "[6.24083014]\n",
      "[1.12200203]\n",
      "[5.09798569]\n",
      "[6.95592895]\n",
      "[2.94587257]\n",
      "[1.14945592]\n",
      "[8.76550707]\n",
      "[6.10958075]\n",
      "loss from unquantized logistic regresison: 0.19047619047619047 on 35 iterations in 0.005465984344482422 seconds\n",
      "0\n",
      "1\n",
      "2\n"
     ]
    }
   ],
   "source": [
    "import numpy as np\n",
    "from logistic_regression.GrdDscntQuant import grdescentquant\n",
    "from logistic_regression.normal_logistic import normallogistic\n",
    "from logistic_regression.GrdDscnt import grdescentnormal\n",
    "from logistic_regression.quant_logistic import quant_logistic\n",
    "from logistic_regression.GrdDscntUncoded import grdescentuncoded\n",
    "from logistic_regression.uncoded_logistic import  uncoded_logistic\n",
    "from quantization.quantize import quantize\n",
    "from coded_computation.master import master\n",
    "import matplotlib.pyplot as plt\n",
    "import pandas as pd\n",
    "from scipy.io import arff\n",
    "from pad_and_clean import pad\n",
    "from pad_and_clean import clean_and_scale\n",
    "import time\n",
    "from gen_data import gen_seperable_data, gen_margin_seperable_data\n",
    "from sklearn.model_selection import train_test_split\n",
    "from run_test import run\n",
    "\n",
    "# do runs, make plots."
   ]
  },
  {
   "cell_type": "code",
   "execution_count": null,
   "metadata": {},
   "outputs": [],
   "source": [
    "# seperable data #1"
   ]
  },
  {
   "cell_type": "code",
   "execution_count": null,
   "metadata": {},
   "outputs": [],
   "source": [
    "# seperable data #2"
   ]
  },
  {
   "cell_type": "code",
   "execution_count": 10,
   "metadata": {},
   "outputs": [
    {
     "ename": "NameError",
     "evalue": "name 'gen_margin_seperable_data' is not defined",
     "output_type": "error",
     "traceback": [
      "\u001b[0;31m---------------------------------------------------------------------------\u001b[0m",
      "\u001b[0;31mNameError\u001b[0m                                 Traceback (most recent call last)",
      "Cell \u001b[0;32mIn[10], line 3\u001b[0m\n\u001b[1;32m      1\u001b[0m \u001b[38;5;66;03m# margined seperable data #1\u001b[39;00m\n\u001b[0;32m----> 3\u001b[0m X,y,w \u001b[38;5;241m=\u001b[39m gen_margin_seperable_data(\u001b[38;5;241m100\u001b[39m,\u001b[38;5;241m10\u001b[39m,\u001b[38;5;241m1\u001b[39m)\n\u001b[1;32m      5\u001b[0m run(X,y,\u001b[38;5;124m\"\u001b[39m\u001b[38;5;124mtest_data.csv\u001b[39m\u001b[38;5;124m\"\u001b[39m)\n",
      "\u001b[0;31mNameError\u001b[0m: name 'gen_margin_seperable_data' is not defined"
     ]
    }
   ],
   "source": [
    "# margined seperable data #1\n",
    "\n",
    "X,y,w = gen_margin_seperable_data(100,10,1)\n",
    "\n",
    "run(X,y,\"test_data.csv\")"
   ]
  },
  {
   "cell_type": "code",
   "execution_count": 1,
   "metadata": {},
   "outputs": [],
   "source": [
    "# margined sperable data #2"
   ]
  },
  {
   "cell_type": "code",
   "execution_count": 2,
   "metadata": {},
   "outputs": [],
   "source": [
    "# real data #1"
   ]
  },
  {
   "cell_type": "code",
   "execution_count": 3,
   "metadata": {},
   "outputs": [],
   "source": [
    "# real data #2"
   ]
  },
  {
   "cell_type": "code",
   "execution_count": null,
   "metadata": {},
   "outputs": [],
   "source": [
    "# real data #3 "
   ]
  },
  {
   "cell_type": "markdown",
   "metadata": {},
   "source": [
    "# plots produced below..."
   ]
  },
  {
   "cell_type": "code",
   "execution_count": null,
   "metadata": {},
   "outputs": [],
   "source": [
    "# add func to make heatmaps..."
   ]
  },
  {
   "cell_type": "code",
   "execution_count": 9,
   "metadata": {},
   "outputs": [],
   "source": [
    "# we want graphs that go like...\n",
    "\n",
    "# quantized system\n",
    "# unquantized system\n",
    "# the normalized difference between the two"
   ]
  },
  {
   "cell_type": "code",
   "execution_count": 5,
   "metadata": {},
   "outputs": [],
   "source": [
    "# normalized e_in heatmaps"
   ]
  },
  {
   "cell_type": "code",
   "execution_count": 6,
   "metadata": {},
   "outputs": [],
   "source": [
    "# normalized e_out heatmaps"
   ]
  },
  {
   "cell_type": "code",
   "execution_count": 7,
   "metadata": {},
   "outputs": [],
   "source": [
    "# access but in a hand wavy manner"
   ]
  },
  {
   "cell_type": "code",
   "execution_count": 8,
   "metadata": {},
   "outputs": [],
   "source": [
    "# normalized iterations"
   ]
  },
  {
   "cell_type": "code",
   "execution_count": null,
   "metadata": {},
   "outputs": [],
   "source": [
    "# time, maybe"
   ]
  }
 ],
 "metadata": {
  "kernelspec": {
   "display_name": "Python 3 (ipykernel)",
   "language": "python",
   "name": "python3"
  },
  "language_info": {
   "codemirror_mode": {
    "name": "ipython",
    "version": 3
   },
   "file_extension": ".py",
   "mimetype": "text/x-python",
   "name": "python",
   "nbconvert_exporter": "python",
   "pygments_lexer": "ipython3",
   "version": "3.11.4"
  }
 },
 "nbformat": 4,
 "nbformat_minor": 1
}
