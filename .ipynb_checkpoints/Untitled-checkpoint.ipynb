{
 "cells": [
  {
   "cell_type": "code",
   "execution_count": null,
   "id": "46b28cbd",
   "metadata": {},
   "outputs": [],
   "source": [
    "import pandas as pd\n",
    "def get_df(filepath):\n",
    "\n",
    "    column_names = [\n",
    "        'w-quantization', 'grd-quantization', 'imputation', 'access',\n",
    "        'query type', 'time', 'stop cond', 'iters', \"e in\", \"e out\"\n",
    "    ]\n",
    "\n",
    "    df = pd.read_csv(filepath, header=None, names=column_names)\n",
    "    return df\n",
    "df1 = get_df(\"/Users/willem/Desktop/jinzhaoData/seperable1.csv\")\n",
    "df2 = get_df(\"seperable1\")\n",
    "\n",
    "merged_df = pd.concat([df1, df2], axis=0, ignore_index=True)\n",
    "merged_df.to_csv(\"seperable1\")\n",
    "\n",
    "\n"
   ]
  }
 ],
 "metadata": {
  "kernelspec": {
   "display_name": "Python 3 (ipykernel)",
   "language": "python",
   "name": "python3"
  },
  "language_info": {
   "codemirror_mode": {
    "name": "ipython",
    "version": 3
   },
   "file_extension": ".py",
   "mimetype": "text/x-python",
   "name": "python",
   "nbconvert_exporter": "python",
   "pygments_lexer": "ipython3",
   "version": "3.11.4"
  }
 },
 "nbformat": 4,
 "nbformat_minor": 5
}
